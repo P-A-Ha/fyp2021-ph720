{
  "cells": [
    {
      "cell_type": "code",
      "execution_count": null,
      "metadata": {
        "collapsed": false
      },
      "outputs": [],
      "source": [
        "%matplotlib inline"
      ]
    },
    {
      "cell_type": "markdown",
      "metadata": {},
      "source": [
        "\n# Plotting PPGs\n"
      ]
    },
    {
      "cell_type": "code",
      "execution_count": null,
      "metadata": {
        "collapsed": false
      },
      "outputs": [],
      "source": [
        "# Libraries\nimport numpy as np\nimport pandas as pd\nimport matplotlib.pyplot as plt\n\n# --------------------------\n# Configuration\n# --------------------------\nfilepath = \"filepath\"\n\n# --------------------------\n# Main\n# --------------------------\n# Read data\n#df = pd.read_csv(filepath)\n\n# Create artificial data\nnoise1 = np.random.normal(0, 0.5, 1000)\nnoise2 = np.random.normal(1, 0.25, 1000)\ntimestamp_ms = np.linspace(0, 100000, 1000)\npulse_bpm = np.sin(timestamp_ms) + 80 + noise1\nspo2_pct = np.cos(timestamp_ms) + 97 + noise2\n\n# Build DataFrame\ndata = pd.DataFrame()\ndata['TIMESTAMP_MS'] = timestamp_ms\ndata['PULSE_BPM'] = pulse_bpm\ndata['SPO2_PCT'] = spo2_pct\n\n# Plot\nax = plt.gca()\n\ndata.plot(kind='line', x='TIMESTAMP_MS', y='PULSE_BPM', ax=ax)\ndata.plot(kind='line', x='TIMESTAMP_MS', y='SPO2_PCT', color='red', ax=ax)\n\n# Show\nplt.show()"
      ]
    }
  ],
  "metadata": {
    "kernelspec": {
      "display_name": "Python 3",
      "language": "python",
      "name": "python3"
    },
    "language_info": {
      "codemirror_mode": {
        "name": "ipython",
        "version": 3
      },
      "file_extension": ".py",
      "mimetype": "text/x-python",
      "name": "python",
      "nbconvert_exporter": "python",
      "pygments_lexer": "ipython3",
      "version": "3.7.7"
    }
  },
  "nbformat": 4,
  "nbformat_minor": 0
}