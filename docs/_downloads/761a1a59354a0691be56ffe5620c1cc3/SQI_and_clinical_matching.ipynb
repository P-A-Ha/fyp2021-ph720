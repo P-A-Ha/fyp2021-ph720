{
  "cells": [
    {
      "cell_type": "code",
      "execution_count": null,
      "metadata": {
        "collapsed": false
      },
      "outputs": [],
      "source": [
        "%matplotlib inline"
      ]
    },
    {
      "cell_type": "markdown",
      "metadata": {},
      "source": [
        "\n# Matching SQI Dataframe Window to Clinical Time of Shock\nMatching SQI Dataframe Window to Clinical Time of Shock\n"
      ]
    },
    {
      "cell_type": "markdown",
      "metadata": {},
      "source": [
        "Importing Libraries\n\n"
      ]
    },
    {
      "cell_type": "code",
      "execution_count": null,
      "metadata": {
        "collapsed": false
      },
      "outputs": [],
      "source": [
        "from datetime import date\nimport pandas as pd\nimport numpy as np\nfrom datetime import datetime\nimport matplotlib.pyplot as plt\n\n# We could use the below for simplicity but since we are going to be calculating these dataframes for multiple patients,\n# then using a csv reader might be more efficient for large scale? Coule we append on axis = 0 multiple dataframes isntead? We would still\n# need to read from CSV so that we only carry out once the calculations.\n\n#from plot_SQI_pandas import Signal_SQIs as sqis"
      ]
    },
    {
      "cell_type": "markdown",
      "metadata": {},
      "source": [
        "Loading SQI Data and clinical data\n\n"
      ]
    },
    {
      "cell_type": "code",
      "execution_count": null,
      "metadata": {
        "collapsed": false
      },
      "outputs": [],
      "source": [
        "'''\nWith some string manipulation and a loop we will be able to apply the following pipeline automatically,\ndepends on how we structure our SQIs i.e. separate dataframes or one large dataframe?\nFor now let's do it for a single file.\n\n'''\nfilename_SQIs = r'..\\..\\..\\..\\OUCRU\\01NVa_Dengue\\Adults\\01NVa-003-2001\\SQI.csv'\nfilename_Clinical = r'..\\..\\..\\..\\OUCRU\\Clinical\\v0.0.10\\01nva_data_stacked_corrected.csv'\n\n\n#reading .csv into dataframes\nClinical = pd.read_csv(filename_Clinical)\nSQIs = pd.read_csv(filename_SQIs)\n\n#Showing Data\nprint(Clinical)\nprint(SQIs)"
      ]
    },
    {
      "cell_type": "markdown",
      "metadata": {},
      "source": [
        "Main Functions fetching event time, ppg start time and the relative time\n\n"
      ]
    },
    {
      "cell_type": "code",
      "execution_count": null,
      "metadata": {
        "collapsed": false
      },
      "outputs": [],
      "source": [
        "'''\nWe might need to add another function input variable for ID, depending on how we structure\nSQI Dataframes i.e. Single or Double\n\n'''\n\n#Function that fetches the time of a pre-specified event into a list for multiple occurences\ndef find_event_time(Clinical,SQIs,event):\n    indx_list = []\n    date_list = []\n    for i in range(len(Clinical['study_no'])):\n        #Need to revise this logic, doing this just to get a picture on how to do it\n        if Clinical['study_no'][i] == SQIs['study_no'][1] and (Clinical['column'][i] == event and Clinical['result'][i] == 'True' or Clinical['result'][i] == event):\n            indx_list.append(i)\n            date_list.append(Clinical['date'][i])\n    return indx_list, date_list\n\n#Calcuating the time of ppg_start\ndef find_event_ppg_time(Clinical,SQIs):\n    for i in range(len(Clinical['study_no'])):\n        #first logical expression needs revisting for multiple SQI Dataframes, event_ppg seemed accurate when crosschecking with raw data\n        if Clinical['study_no'][i] == SQIs['study_no'][1] and Clinical['column'][i] == 'event_ppg' and Clinical['result'][i] == 'True':\n            ppg_start = Clinical['date'][i]\n            return ppg_start\n\n#Calculating the relative time i.e. time of event - time of start\ndef calculate_relative_time(ppg_start, date_list):\n    relative_event = []\n    for i in range(len(date_list)):\n        if ppg_start < date_list[i]: #Makins sure that event is after start of PPG Record\n            temp_date_list = datetime.strptime(date_list[i], '%Y-%m-%d %H:%M:%S') #converting str to datetime\n            print('Temporary Date List (converted to datetime):')\n            print(temp_date_list)\n            temp_ppg_start = datetime.strptime(ppg_start, '%Y-%m-%d %H:%M:%S') #converting str to datetime\n            print('Temporary PPG Start (converted to datetime):')\n            print(temp_ppg_start)\n            relative_event.append(temp_date_list-temp_ppg_start) #List of events with relative times\n    return relative_event\n\n#Defining the event we are interested in (this one was used as an example as it was the only one that could be used for this specified patient)\nevent_lookup = 'event_laboratory'\n\nppg_start = find_event_ppg_time(Clinical,SQIs)\nprint('PPG Start Time:')\nprint(ppg_start)\nindx_list, date_list = find_event_time(Clinical, SQIs, event_lookup)\nprint('Event Indexes List:')\nprint(indx_list)\nprint('Event Datetime List:')\nprint(date_list)\n\nrelative_event = calculate_relative_time(ppg_start, date_list)\nprint('Relative Event List:')\nprint(relative_event)"
      ]
    },
    {
      "cell_type": "markdown",
      "metadata": {},
      "source": [
        "Using the relative time we can calculate the window and then match the event to the SQI window\n\n"
      ]
    },
    {
      "cell_type": "code",
      "execution_count": null,
      "metadata": {
        "collapsed": false
      },
      "outputs": [],
      "source": [
        "#The following was used during debugging\nSQIs = SQIs.drop(['Event'], axis = 1)\n\n#We divide by 30 to find the number of windows, -10 for the 5 minute trimming and -1 for the indexing\nWindow_position = int((relative_event[0].seconds/30) - 10 - 1) #(due to the trimming and indexing of w starting from 0)\n\n#The below is done for the sake of the example as we cannot find an event within the PPG record for this patient (other than Dengue Shock which has no time)\n#And we are subtractinf 2513 to be able to easily observe the effect of the actions that follow \nWindow_position = Window_position - 2503\nprint(Window_position)"
      ]
    },
    {
      "cell_type": "markdown",
      "metadata": {},
      "source": [
        "We then match the test to the w of using indexing and the \"w\" column constructed earlier\n\n"
      ]
    },
    {
      "cell_type": "code",
      "execution_count": null,
      "metadata": {
        "collapsed": false
      },
      "outputs": [],
      "source": [
        "if SQIs['w'][Window_position]:\n    SQIs['Event'] = np.nan #filling up with nans to form the column\n    SQIs['Event'][Window_position] = event_lookup #replacing the nan with the event on the specified cell\n#The raise below is not really needed since if it is out of range another ValueError will be raised\nelse:\n    raise ValueError('Window not found') #just in case not such window exists\n\nprint(SQIs)"
      ]
    },
    {
      "cell_type": "markdown",
      "metadata": {},
      "source": [
        "Save to CSV File\n\n"
      ]
    },
    {
      "cell_type": "code",
      "execution_count": null,
      "metadata": {
        "collapsed": false
      },
      "outputs": [],
      "source": [
        "SQIs.to_csv(r'..\\..\\..\\..\\OUCRU\\01NVa_Dengue\\Adults\\01NVa-003-2001\\SQI_and_clinical.csv')"
      ]
    },
    {
      "cell_type": "markdown",
      "metadata": {},
      "source": [
        "Allignment Example\n\n"
      ]
    },
    {
      "cell_type": "code",
      "execution_count": null,
      "metadata": {
        "collapsed": false
      },
      "outputs": [],
      "source": [
        "img = plt.imread(r'..\\..\\..\\..\\MISC\\SQI_Clinical_Image_example.png')\nplt.title('Example a Event Alignment with SQIs in Excel')\nplt.imshow(img)"
      ]
    },
    {
      "cell_type": "markdown",
      "metadata": {},
      "source": [
        "Some thoughts on a single file SQIs (Ignore for now)\n\n"
      ]
    },
    {
      "cell_type": "code",
      "execution_count": null,
      "metadata": {
        "collapsed": false
      },
      "outputs": [],
      "source": [
        "'''\nID = [SQIs['study_no'][0]]\nfor i in range(len(SQIs['study_no']-1)):\n    if ID != ID[-1]:\n        ID = ID.append(SQIs['study_no'][i+1])\n        find_time(Clinical_df, SQIs, 'event_shock', ID)\n'''"
      ]
    }
  ],
  "metadata": {
    "kernelspec": {
      "display_name": "Python 3",
      "language": "python",
      "name": "python3"
    },
    "language_info": {
      "codemirror_mode": {
        "name": "ipython",
        "version": 3
      },
      "file_extension": ".py",
      "mimetype": "text/x-python",
      "name": "python",
      "nbconvert_exporter": "python",
      "pygments_lexer": "ipython3",
      "version": "3.9.1"
    }
  },
  "nbformat": 4,
  "nbformat_minor": 0
}