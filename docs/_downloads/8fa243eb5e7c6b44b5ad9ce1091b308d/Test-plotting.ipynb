{
  "cells": [
    {
      "cell_type": "code",
      "execution_count": null,
      "metadata": {
        "collapsed": false
      },
      "outputs": [],
      "source": [
        "%matplotlib inline"
      ]
    },
    {
      "cell_type": "markdown",
      "metadata": {},
      "source": [
        "\n# Plotting data from an CSV file (script)\n\nExample plot of 'PULSE_BPM' and 'SPO2_PCT' from a CSV file. \n"
      ]
    },
    {
      "cell_type": "code",
      "execution_count": null,
      "metadata": {
        "collapsed": false
      },
      "outputs": [],
      "source": [
        "import numpy as np\nimport pandas as pd\nimport matplotlib.pyplot as plt\n\n#Remember to Change Path\ndf = pd.read_csv(r\"D:\\FILES\\Desktop\\Dissertation ICL\\OUCRU\\01NVa_Dengue\\Adults\\01NVa-003-2001\\PPG\\01NVa-003-2001 Smartcare.csv\")\n\n#visualising Data\ndf\n\n#Plotting Data\nax = plt.gca()\n\ndf[:10000].plot(kind='line',x='TIMESTAMP_MS',y='PULSE_BPM',ax=ax)\ndf[:10000].plot(kind='line',x='TIMESTAMP_MS',y='SPO2_PCT', color='red', ax=ax)\n\nplt.show()"
      ]
    }
  ],
  "metadata": {
    "kernelspec": {
      "display_name": "Python 3",
      "language": "python",
      "name": "python3"
    },
    "language_info": {
      "codemirror_mode": {
        "name": "ipython",
        "version": 3
      },
      "file_extension": ".py",
      "mimetype": "text/x-python",
      "name": "python",
      "nbconvert_exporter": "python",
      "pygments_lexer": "ipython3",
      "version": "3.9.1"
    }
  },
  "nbformat": 4,
  "nbformat_minor": 0
}