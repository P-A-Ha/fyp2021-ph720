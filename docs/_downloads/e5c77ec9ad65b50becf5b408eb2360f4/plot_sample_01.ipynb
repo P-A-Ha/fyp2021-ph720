{
  "cells": [
    {
      "cell_type": "code",
      "execution_count": null,
      "metadata": {
        "collapsed": false
      },
      "outputs": [],
      "source": [
        "%matplotlib inline"
      ]
    },
    {
      "cell_type": "markdown",
      "metadata": {},
      "source": [
        "\n# Plotting a gaussian (script)\n\nExample ``matplotlib`` to plot a gaussian.\n"
      ]
    },
    {
      "cell_type": "code",
      "execution_count": null,
      "metadata": {
        "collapsed": false
      },
      "outputs": [],
      "source": [
        "# Libraries\nimport numpy as np\nimport matplotlib.pyplot as plt\n\n\n# ---------------------------\n# Methods\n# ---------------------------\ndef gaussian(x, mu=0, sig=1):\n    return np.exp(-np.power(x - mu, 2.) / (2 * np.power(sig, 2.)))\n\n\n# ---------------------------\n# Configuration\n# ---------------------------\n\n\n# ---------------------------\n# Main\n# ---------------------------\n# Load data\nx = np.linspace(-3, 3, 120)\ny = gaussian(x)\n\n# Plot\nplt.plot(x, y)\n\n# Show\nplt.show()"
      ]
    }
  ],
  "metadata": {
    "kernelspec": {
      "display_name": "Python 3",
      "language": "python",
      "name": "python3"
    },
    "language_info": {
      "codemirror_mode": {
        "name": "ipython",
        "version": 3
      },
      "file_extension": ".py",
      "mimetype": "text/x-python",
      "name": "python",
      "nbconvert_exporter": "python",
      "pygments_lexer": "ipython3",
      "version": "3.7.7"
    }
  },
  "nbformat": 4,
  "nbformat_minor": 0
}