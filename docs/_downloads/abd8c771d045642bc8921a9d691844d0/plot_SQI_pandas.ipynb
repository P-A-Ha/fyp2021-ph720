{
  "cells": [
    {
      "cell_type": "code",
      "execution_count": null,
      "metadata": {
        "collapsed": false
      },
      "outputs": [],
      "source": [
        "%matplotlib inline"
      ]
    },
    {
      "cell_type": "markdown",
      "metadata": {},
      "source": [
        "\n# PPG Pre-processing and SQI Calculations using Pandas\n\nTrimming, Filtering, Segmentation and SQI Calculations utilising Pandas\n"
      ]
    },
    {
      "cell_type": "code",
      "execution_count": null,
      "metadata": {
        "collapsed": false
      },
      "outputs": [],
      "source": [
        "# Code Adapted from:\n# https://meta00.github.io/vital_sqi/_examples/others/plot_pipeline_02.html\n# AND\n# https://meta00.github.io/vital_sqi/_examples/others/plot_read_signal.html#sphx-glr-examples-others-plot-read-signal-py"
      ]
    },
    {
      "cell_type": "code",
      "execution_count": null,
      "metadata": {
        "collapsed": false
      },
      "outputs": [],
      "source": [
        "'''\nThis file will be used in calculating the SQIs for each patient (and discarding parts of the signal soon).\nA loop will be implemented in future iterations for the different patiend files. In general, the file is built\nparametrically so that the procedure can be automated.\n\n'''"
      ]
    },
    {
      "cell_type": "markdown",
      "metadata": {},
      "source": [
        "Importing Libraries\n\n"
      ]
    },
    {
      "cell_type": "code",
      "execution_count": null,
      "metadata": {
        "collapsed": false
      },
      "outputs": [],
      "source": [
        "# Generic\nimport os\nimport numpy as np\nimport pandas as pd\nimport matplotlib.pyplot as plt\nfrom scipy import signal\n\n# Scipy\nfrom scipy.stats import skew, kurtosis, entropy\n\n # vitalSQI\nfrom vital_sqi.data.signal_io import PPG_reader\nimport vital_sqi.highlevel_functions.highlevel as sqi_hl\nimport vital_sqi.data.segment_split as sqi_sg\nfrom vital_sqi.common.rpeak_detection import PeakDetector\nfrom vital_sqi.preprocess.band_filter import BandpassFilter\nimport vital_sqi.sqi as sq"
      ]
    },
    {
      "cell_type": "markdown",
      "metadata": {},
      "source": [
        "Loading data\n\n"
      ]
    },
    {
      "cell_type": "code",
      "execution_count": null,
      "metadata": {
        "collapsed": false
      },
      "outputs": [],
      "source": [
        "# Filepath definition\nfilepath = r'..\\..\\..\\..\\OUCRU\\01NVa_Dengue\\Adults\\01NVa-003-2001\\PPG'\nfilename = r'01NVa-003-2001 Smartcare.csv'\n\n\n#defining constants\ntrim_amount = 300\nhp_filt_params = (1, 1) #(Hz, order)\nlp_filt_params = (20, 4) #(Hz, order)\nfilter_type =  'butter'\nsegment_length = 30\nsampling_rate = 100\n\n#readind PPG data\ndata = PPG_reader(os.path.join(filepath, filename), \n    signal_idx=[\"PLETH\", \"IR_ADC\"],\n    timestamp_idx=[\"TIMESTAMP_MS\"],\n    info_idx=[\"SPO2_PCT\",\"PULSE_BPM\",\"PERFUSION_INDEX\"], sampling_rate=sampling_rate)\n\n\nprint(data)\nprint(data.signals)\nprint(data.sampling_rate)\nprint(data.start_datetime)\nprint(data.wave_type)\nprint(data.signals.shape)\n\n\nplot_range = np.arange(0,1000,1)\nfig, ax = plt.subplots()\nax.plot(plot_range, data.signals[0][0:1000])"
      ]
    },
    {
      "cell_type": "markdown",
      "metadata": {},
      "source": [
        "Setting the indexes for the raw data - adopted from examples\n\n"
      ]
    },
    {
      "cell_type": "code",
      "execution_count": null,
      "metadata": {
        "collapsed": false
      },
      "outputs": [],
      "source": [
        "pd.Timedelta.__str__ = lambda x: x._repr_base('all')\n\n#Transposing data.signals to set into columns\nsignals = pd.DataFrame(data.signals.T)\n\n# Include column with index\nsignals = signals.reset_index()\n\n\nsignals['timedelta'] = \\\n    pd.to_timedelta(signals.index / sampling_rate, unit='s')\n\n# Set the timedelta index (keep numeric index too)\nsignals = signals.set_index('timedelta')\n\n# Rename column to avoid confusion\nsignals = signals.rename(columns={'index': 'idx'})\n\nprint(\"Raw Signals:\")\nprint(signals)\n\n#Plotting\nfig, axes = plt.subplots(nrows=2, ncols=1)\naxes = axes.flatten()\nsignals[0].plot(ax=axes[0])\nsignals[1].plot(ax=axes[1])"
      ]
    },
    {
      "cell_type": "markdown",
      "metadata": {},
      "source": [
        "Trimming the first and last 5 minutes\n\n"
      ]
    },
    {
      "cell_type": "code",
      "execution_count": null,
      "metadata": {
        "collapsed": false
      },
      "outputs": [],
      "source": [
        "#Defining the 5 minute offset\noffset = pd.Timedelta(minutes=5)\n\n#Indexes - adopted from example\nidxs = (signals.index > offset) & \\\n        (signals.index < signals.index[-1] - offset)\n\n#Trimming\nsignals = signals[idxs]"
      ]
    },
    {
      "cell_type": "code",
      "execution_count": null,
      "metadata": {
        "collapsed": false
      },
      "outputs": [],
      "source": [
        "# RESAMPLE??\n# MISSING DATA INPUT??\n# TAPPERING??"
      ]
    },
    {
      "cell_type": "markdown",
      "metadata": {},
      "source": [
        "Band-pass filtering\n\n"
      ]
    },
    {
      "cell_type": "code",
      "execution_count": null,
      "metadata": {
        "collapsed": false
      },
      "outputs": [],
      "source": [
        "'''\nBand-pass filtering can be adjusted, maybe use a lower low-pass\ncutoff frequency @15-17Hz\n\n'''\n#Band pass filtering function\ndef bpf(signal):\n    hp_filt_params = (1, 1) #(Cutoff Hz, order)\n    lp_filt_params = (20, 4) #( Cutoff Hz, order)\n    sampling_rate = 100\n    filter = BandpassFilter(band_type='butter', fs=sampling_rate)\n    filtered_signal = filter.signal_highpass_filter(signal, cutoff=hp_filt_params[0], order=hp_filt_params[1])\n    filtered_signal = filter.signal_lowpass_filter(filtered_signal, cutoff=lp_filt_params[0], order=lp_filt_params[1])\n    return filtered_signal\n\n#Band-pass filtered signals\nsignals['0_bpf'] = bpf(signals[0])\nsignals['1_bpf'] = bpf(signals[1])\n\nprint('Raw and Filtered Signals:')\nprint(signals)\n\nfig, axes = plt.subplots(nrows=2, ncols=1)\naxes = axes.flatten()\nsignals['0_bpf'].plot(ax=axes[0])\nsignals['1_bpf'].plot(ax=axes[1])"
      ]
    },
    {
      "cell_type": "markdown",
      "metadata": {},
      "source": [
        "SQI Functions Definition and Peak Detection\n\n"
      ]
    },
    {
      "cell_type": "code",
      "execution_count": null,
      "metadata": {
        "collapsed": false
      },
      "outputs": [],
      "source": [
        "def PeakDetection(x):\n    detector = PeakDetector()\n    peaks, troughs = detector.ppg_detector(x, 7) #6 and 7 work the best\n    return peaks, troughs\n\n#Defining SQI Functions\n\ndef snr(x):\n    #Signal to noise ratio\n    #needs raw signal\n    return np.mean(sq.standard_sqi.signal_to_noise_sqi(x))\n\ndef zcr(x):\n    #Zero Crossing Rate\n    #Needs filtered signal\n    return 0.5 * np.mean(np.abs(np.diff(np.sign(x))))\n\ndef mcr(x):\n    #Mean Crossing Rate\n    #needs raw signal\n    return zcr(x - np.mean(x))\n\ndef perfusion(x,y):\n    return (np.max(y) - np.min(y)) / np.abs(np.mean(x)) * 100\n\ndef correlogram(x):\n    #Correlogram\n    #Needs filtered signal\n    return sq.rpeaks_sqi.correlogram_sqi(x)\n\n#Calculating peaks and troughs using peakdetector function for both filtered signals\npeak_list_0, trough_list_0 = PeakDetection(signals['0_bpf'])\npeak_list_1, trough_list_1 = PeakDetection(signals['1_bpf'])\n\n'''\nMSW values that are being calculated are too small, maybe peakdetectors need\nto be revisited?\n'''\ndef msq(x,peaks):\n    #Dynamic Time Warping\n    #Requires Filtered Signal and peaks\n     # Return\n     return sq.standard_sqi.msq_sqi(x, peaks_1=peaks, peak_detect2=6)\n\n'''\nBelow function is outputting an error, needs revisiting\n'''\n# def dtw(x,troughs):\n#     #Dynamic Time Warping\n#     #Requires Filtered Signal and troughs and template selection 0-3 (0-2 for PPG)\n#     # Per beat\n#     dtw_list = sq.standard_sqi.per_beat_sqi(sqi_func=sq.dtw_sqi, troughs=troughs, signal=x, taper=True, template_type=1)\n#     # Return mean and standard deviation\n#     return [np.mean(dtw_list), np.std(dtw_list)]"
      ]
    },
    {
      "cell_type": "markdown",
      "metadata": {},
      "source": [
        "Function Computing SQIs\n\n"
      ]
    },
    {
      "cell_type": "code",
      "execution_count": null,
      "metadata": {
        "collapsed": false
      },
      "outputs": [],
      "source": [
        "def sqi_all(x,raw,filtered,peaks,troughs):\n    \n    #Computing  all SQIs using the functions above\n    \n    # Information\n    dinfo = {\n        'first': x.idx.iloc[0],\n        'last': x.idx.iloc[-1],\n        'skew': skew(x[raw]),\n        'entropy': entropy(x[raw]),\n        'kurtosis': kurtosis(x[raw]),\n        'snr': snr(x[raw]),\n        'mcr': mcr(x[raw]),\n        'zcr': zcr(x[filtered]),\n        'msq': msq(x[filtered],peaks),\n        'perfusion': perfusion(x[raw], x[filtered]),\n        'correlogram': correlogram(x[filtered]),\n        #'dtw': dtw(x[filtered],troughs)\n    }\n    '''\n    When using dtw an empty signal error is presented that\n    needs fixing, not sure why it does that\n    '''\n    # Return\n    return pd.Series(dinfo)"
      ]
    },
    {
      "cell_type": "markdown",
      "metadata": {},
      "source": [
        "Calculating SQIs for both signals 0 = Pleth and 1 = IR_ADC\n\n"
      ]
    },
    {
      "cell_type": "code",
      "execution_count": null,
      "metadata": {
        "collapsed": false
      },
      "outputs": [],
      "source": [
        "sqis_0 = signals.groupby(pd.Grouper(freq='30s')).apply(lambda x: sqi_all(x, 0,'0_bpf', peak_list_0, trough_list_0))\nsqis_1 = signals.groupby(pd.Grouper(freq='30s')).apply(lambda x: sqi_all(x, 1,'1_bpf', peak_list_1, trough_list_1))\n\n#Displaying the SQIs per signal\nprint(\"SQIs Signal 0 (Pleth):\")\nsqis_0\nprint(sqis_0)\n\nprint(\"SQIs Signal 1 (IR_ADC):\")\nsqis_1\nprint(sqis_1)\nsqis_1 = sqis_1.drop(['first','last'], axis = 1)\n\n\n# Add window id to identify point of shock more easily\nsqis_1['w'] = np.arange(sqis_1.shape[0])"
      ]
    },
    {
      "cell_type": "markdown",
      "metadata": {},
      "source": [
        "Final Formatting into a single DataFrame and Saving into a .csv file\n\n"
      ]
    },
    {
      "cell_type": "code",
      "execution_count": null,
      "metadata": {
        "collapsed": false
      },
      "outputs": [],
      "source": [
        "#Merging SQIs of different signals from the same record (Pleth and IR_ADC) \nSignal_SQIs = sqis_0.merge(sqis_1, on='timedelta', suffixes=('_0', '_1'))\n\n#Automatically fetching the study_no from the filename and including it in the DataFrame\nSignal_SQIs['study_no'] = filename.split()[0][-8:]\nprint(Signal_SQIs)\n\n# Saving the SQIs to a CSV file\nSignal_SQIs.to_csv(r'..\\..\\..\\..\\OUCRU\\01NVa_Dengue\\Adults\\01NVa-003-2001\\SQI.csv')\n\n'''\n#Running Some Abstract Checks to Verify Results etc.\n\nprint(perfusion(signals[0][0:3000], signals['0_bpf'][0:3000]))\n\n'''"
      ]
    },
    {
      "cell_type": "code",
      "execution_count": null,
      "metadata": {
        "collapsed": false
      },
      "outputs": [],
      "source": [
        "'''\nDiscarding Process to be implemented after quality check.\n'''"
      ]
    }
  ],
  "metadata": {
    "kernelspec": {
      "display_name": "Python 3",
      "language": "python",
      "name": "python3"
    },
    "language_info": {
      "codemirror_mode": {
        "name": "ipython",
        "version": 3
      },
      "file_extension": ".py",
      "mimetype": "text/x-python",
      "name": "python",
      "nbconvert_exporter": "python",
      "pygments_lexer": "ipython3",
      "version": "3.9.1"
    }
  },
  "nbformat": 4,
  "nbformat_minor": 0
}