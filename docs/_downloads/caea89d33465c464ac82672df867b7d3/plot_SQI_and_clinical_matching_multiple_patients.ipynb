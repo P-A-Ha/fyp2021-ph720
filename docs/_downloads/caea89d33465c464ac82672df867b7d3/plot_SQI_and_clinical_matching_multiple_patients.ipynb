{
  "cells": [
    {
      "cell_type": "code",
      "execution_count": null,
      "metadata": {
        "collapsed": false
      },
      "outputs": [],
      "source": [
        "%matplotlib inline"
      ]
    },
    {
      "cell_type": "markdown",
      "metadata": {},
      "source": [
        "\n# Matching SQI Dataframe Window to Clinical Time of \"Event\" for Multiple Records [Unfinished]\nMatching SQI Dataframe Window to Clinical Time of \"Event\" for Multiple Records\n"
      ]
    },
    {
      "cell_type": "markdown",
      "metadata": {},
      "source": [
        "Importing Libraries\n\n"
      ]
    },
    {
      "cell_type": "code",
      "execution_count": null,
      "metadata": {
        "collapsed": false
      },
      "outputs": [],
      "source": [
        "from datetime import date\nimport pandas as pd\nimport numpy as np\nfrom datetime import datetime\nimport matplotlib.pyplot as plt\nimport os"
      ]
    },
    {
      "cell_type": "markdown",
      "metadata": {},
      "source": [
        "Loading SQI Data and clinical data\n\n"
      ]
    },
    {
      "cell_type": "code",
      "execution_count": null,
      "metadata": {
        "collapsed": false
      },
      "outputs": [],
      "source": [
        "filename_SQIs = r'..\\..\\..\\..\\OUCRU\\Outputs\\Complete_SQIs.csv'\nfilename_Clinical = r'..\\..\\..\\..\\OUCRU\\Clinical\\v0.0.10\\01nva_data_stacked_corrected.csv'\nstudy_no_path = r'..\\..\\..\\..\\OUCRU\\01NVa_Dengue\\Adults'\nstudy_no_list = os.listdir(study_no_path) # Need to take the last 8 characters i.e. study_no_list[i][-8:]\n\n#reading .csv into dataframes\nClinical = pd.read_csv(filename_Clinical)\nSQIs = pd.read_csv(filename_SQIs)\n\nTERMINAL = True\n\n#Showing Data\nif TERMINAL:\n    print(\"\\n Clincial Data:\")\n    print(Clinical)\n    print(\"\\n SQI Data:\")\n    print(SQIs)\n\ndef match_clinical_to_SQIs(Clinical, SQIs, event, study_no_list):\n    SQIs[event]=np.nan #forming an empty column for the event \n    print(\"\\n EVENT: \", event)\n    for i in range(len(study_no_list)):\n        print(\"\\n STUDY-NO: \", study_no_list[i])\n        #finding the rows for which the following logic is satisfied\n        event_row = Clinical[(((Clinical.column == event) & (Clinical.result == 'True')) | (Clinical.result == event)) & (Clinical.study_no == study_no_list[i][-8:])]\n        #print(event_row.date.index[0])\n        for j in range(len(event_row)):\n            valid_SQI_rows = SQIs[(SQIs.PPG_w_s <= event_row.date[event_row.date.index[j]]) & (SQIs.PPG_w_f > event_row.date[event_row.date.index[j]]) & (SQIs.study_no == study_no_list[i][-8:])]\n            SQIs[event][valid_SQI_rows.index] = True\n            print(\"\\n Valid Event SQIs Index:\")\n            print(valid_SQI_rows.index)\n    \n    return SQIs\n\n'''\n\nWe previously had functions that fetched ppg start and \ncalculated relative times but since we included the PPG Start times\nin the SQI file, that is no longer needed.\n\n'''\n\n\nevent_lookup = 'event_laboratory'\nSQIs_with_Clinical = match_clinical_to_SQIs(Clinical, SQIs, event_lookup, study_no_list)\n\nevent_lookup = 'event_shock'\nSQIs_with_Clinical = match_clinical_to_SQIs(Clinical, SQIs_with_Clinical, event_lookup, study_no_list)\n\n\nif TERMINAL:\n    print('\\n SQIs with Clinical Event Match:')\n    print(SQIs_with_Clinical)\n\n\nSQIs_with_Clinical.to_csv(r'..\\..\\..\\..\\OUCRU\\Outputs\\Complete_SQIs_with_Clinical.csv')\n\n\n# if TERMINAL:\n#     img = plt.imread(r'..\\..\\..\\..\\MISC\\SQI_Clinical_Image_example.png')\n#     plt.title('Example a Event Alignment with SQIs in Excel')  \n#     plt.imshow(img)"
      ]
    }
  ],
  "metadata": {
    "kernelspec": {
      "display_name": "Python 3",
      "language": "python",
      "name": "python3"
    },
    "language_info": {
      "codemirror_mode": {
        "name": "ipython",
        "version": 3
      },
      "file_extension": ".py",
      "mimetype": "text/x-python",
      "name": "python",
      "nbconvert_exporter": "python",
      "pygments_lexer": "ipython3",
      "version": "3.9.1"
    }
  },
  "nbformat": 4,
  "nbformat_minor": 0
}