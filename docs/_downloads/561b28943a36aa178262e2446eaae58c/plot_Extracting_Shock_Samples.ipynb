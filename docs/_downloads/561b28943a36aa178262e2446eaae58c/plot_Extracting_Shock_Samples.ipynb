{
  "cells": [
    {
      "cell_type": "code",
      "execution_count": null,
      "metadata": {
        "collapsed": false
      },
      "outputs": [],
      "source": [
        "%matplotlib inline"
      ]
    },
    {
      "cell_type": "markdown",
      "metadata": {},
      "source": [
        "\n# Extracting Shock Data for Feature Extraction - Initial Plots for BPF \n\nFetching shock instances (including symptoms that indicate severe dengue) and plotting the data.\nProcessing of data will follow this step\n"
      ]
    },
    {
      "cell_type": "markdown",
      "metadata": {},
      "source": [
        "# Importing Libraries, Definitions and Data Loading\n\n"
      ]
    },
    {
      "cell_type": "code",
      "execution_count": null,
      "metadata": {
        "collapsed": false
      },
      "outputs": [],
      "source": [
        "# Generic\nimport os\nimport numpy as np\nimport pandas as pd\nimport matplotlib.pyplot as plt\nfrom datetime import datetime\nimport glob\nimport plotly.graph_objects as go\nfrom plotly.subplots import make_subplots\nimport plotly.io as pio\n\nTerminal = True\n\nSQI_clinical_file = r'..\\..\\..\\..\\OUCRU\\Outputs\\Complete_SQIs_with_Clinical.csv'\nRaw_signals = r'..\\..\\..\\..\\OUCRU\\Outputs\\Raw_signals.csv'\n\n\n#Loading SQI Matched with clinitcal to the Dataframe\nSQI_C = pd.read_csv(SQI_clinical_file)\nRaw = pd.read_csv(Raw_signals)\n\nif Terminal:\n    print(\"\\n SQI with Clinical Match:\")\n    print(SQI_C)\n    print(\"\\n Raw Signals\")\n    print(Raw)\n\n#List of events explored\nevent = ['event_shock', 'reshock24','diagnosis_admission',\\\n     'ascites', 'respiratory_distress', 'ventilation_cannula', \\\n     'ventilation_mechanical', 'ventilation_ncpap', 'bleeding_severe', \\\n     'cns_abnormal', 'liver_mild', 'pleural_effusion', 'skidney']\n\nshock_ad = 'shock_admission' #excluding it from the prior list as we are treating this differently\n\n#Study_no list for ease of use\npatient_list = ['003-2162']\n#['003-2009', '003-2012','003-2023','003-2028','003-2103','003-2104','003-2109', '003-2110', '003-2162']"
      ]
    },
    {
      "cell_type": "markdown",
      "metadata": {},
      "source": [
        "Turning signal window rows with an event to \"keep = True\"\n\n"
      ]
    },
    {
      "cell_type": "code",
      "execution_count": null,
      "metadata": {
        "collapsed": false
      },
      "outputs": [],
      "source": [
        "SQI_C['keep'] = False\nfor i in range(len(event)):\n    event_s = event[i]\n    SQI_C['keep'][SQI_C[event_s] == True] = True\n    print(\"\\n Total \", event[i], \" events:\")\n\n#Optional Save\n#SQI_C.to_csv(r'..\\..\\..\\..\\OUCRU\\Outputs\\Complete_SQIs_with_Clinical_keep.csv')"
      ]
    },
    {
      "cell_type": "markdown",
      "metadata": {},
      "source": [
        "Plotting IR_ADC BPF and PLETH BPF on interactive graphs, together with the events (i.e. event of shock and whether or not the patient was admitted with shock)\n\n"
      ]
    },
    {
      "cell_type": "code",
      "execution_count": null,
      "metadata": {
        "collapsed": false
      },
      "outputs": [],
      "source": [
        "for i in range(len(patient_list)):\n    #Plotting IR_ADC BPF signals with events\n    #fig = make_subplots(rows=2, cols=1)\n    title_str = 'IR_ADC_BPF over Time for patient ' + str(patient_list[i])\n    fig = go.Figure(layout_title_text = title_str)\n    fig.add_trace(go.Scatter(x = Raw.PPG_Datetime[Raw.study_no == patient_list[i]], y =  Raw.IR_ADC_bpf[Raw.study_no == patient_list[i]], name='IR_ADC'))#,),row=1,col=1)\n    for index, row in SQI_C[(SQI_C.study_no == patient_list[i]) & (SQI_C.keep == True)].iterrows():\n        fig.add_vline(x = row.PPG_w_s, line_width=3, line_dash=\"dot\", line_color=\"red\")# annotation_text=\"Shock\")#, annotation_position=\"top left\", annotation_font_size=20, annotation_font_color=\"red\")\n        if not row.empty:\n            fig.add_trace( go.Scatter(mode='markers', x=[row.PPG_w_s], y=[Raw['PLETH'][(Raw.study_no == patient_list[i]) & (Raw.PPG_Datetime >= row.PPG_w_s) & (Raw.PPG_Datetime < row.PPG_w_f)]], marker=dict(color='red', opacity=1), name = \"Shock\" ))\n    if not SQI_C[(SQI_C.study_no == patient_list[i]) & (SQI_C.shock_admission == True)].empty:\n        fig.add_annotation(\n        xref=\"x domain\",\n        yref=\"y domain\",\n        # The arrow head will be 25% along the x axis, starting from the left\n        x=0.01,\n        # The arrow head will be 40% along the y axis, starting from the bottom\n        y=0.01,\n        text=\"Admitted with Shock\",\n        showarrow=False,\n        font=dict(\n            family=\"Courier New, monospace\",\n            size=20,\n            color=\"RED\"\n            )\n                        )\n    \n\n    fig.update_xaxes(rangeslider_visible=True)\n    fig.update_xaxes(title_text=\"Date\")\n    fig.update_yaxes(title_text=\"IR_ADC\")\n    fig.update_layout(showlegend=True)\n\n    # #IGNORE, this is to save locally\n    # imagepath1 = \"D:\\FILES\\Desktop\\Dissertation ICL\\OUCRU\\Outputs\\Images_BPF\\PNG\"\n    # imagepath2 = \"D:\\FILES\\Desktop\\Dissertation ICL\\OUCRU\\Outputs\\Images_BPF\\SVG\"\n    # imagepath3 = \"D:\\FILES\\Desktop\\Dissertation ICL\\OUCRU\\Outputs\\Images_BPF\\HTML\"\n    # img_title1 = os.path.join(imagepath1,title_str)\n    # img_title2 = os.path.join(imagepath2,title_str)\n    # img_title3 = os.path.join(imagepath3,title_str)\n    # img_s1 = img_title1 + \".png\"\n    # img_s2 = img_title2 + \".svg\"\n    # img_s3 = img_title3 + \".html\"\n    # fig.write_image(img_s1)\n    # fig.write_image(img_s2)\n    # fig.write_html(img_s3)\n\n    fig.show()\n\n    \n    #Plotting PLETH BPF and events\n    #fig = make_subplots(rows=2, cols=1)\n    title_str2 = 'PLETH_BPF over Time for patient ' + str(patient_list[i])\n    fig2 = go.Figure(layout_title_text = title_str2)\n    fig2.add_trace(go.Scatter(x = Raw.PPG_Datetime[Raw.study_no == patient_list[i]], y =  Raw.PLETH_bpf[Raw.study_no == patient_list[i]], name='PLETH'))#,),row=1,col=1)\n    for index, row in SQI_C[(SQI_C.study_no == patient_list[i]) & (SQI_C.keep == True)].iterrows():\n        fig2.add_vline(x = row.PPG_w_s, line_width=3, line_dash=\"dot\", line_color=\"red\")#, annotation_text=\"Shock\")#, annotation_position=\"top left\", annotation_font_size=20, annotation_font_color=\"red\")\n        if not row.empty:\n            fig.add_trace( go.Scatter(mode='markers', x=[row.PPG_w_s], y=[Raw['PLETH'][(Raw.study_no == patient_list[i]) & (Raw.PPG_Datetime >= row.PPG_w_s) & (Raw.PPG_Datetime < row.PPG_w_f)]], marker=dict(color='red', opacity=1), name = \"Shock\" ))\n    if not SQI_C[(SQI_C.study_no == patient_list[i]) & (SQI_C.shock_admission == True)].empty:\n        fig2.add_annotation(\n        xref=\"x domain\",\n        yref=\"y domain\",\n        # The arrow head will be 25% along the x axis, starting from the left\n        x=0.01,\n        # The arrow head will be 40% along the y axis, starting from the bottom\n        y=0.01,\n        text=\"Admitted with Shock\",\n        showarrow=False,\n        font=dict(\n            family=\"Courier New, monospace\",\n            size=20,\n            color=\"RED\"\n            )\n                        )\n\n\n    fig2.update_xaxes(rangeslider_visible=True)\n    fig2.update_xaxes(title_text=\"Date\")\n    fig2.update_yaxes(title_text=\"PLETH\")\n    fig2.update_layout(showlegend=True)\n\n\n    # #IGNORE, this is to save locally\n    # img_title4 = os.path.join(imagepath1,title_str2)\n    # img_title5 = os.path.join(imagepath2,title_str2)\n    # img_title6 = os.path.join(imagepath3,title_str2)\n    # img_s4 = img_title4 + \".png\"\n    # img_s5 = img_title5 + \".svg\"\n    # img_s6 = img_title6 + \".html\"\n    # fig2.write_image(img_s4)\n    # fig2.write_image(img_s5)\n    # fig2.write_html(img_s6)\n\n    fig2.show()\n    \n\n\n\n#MULTIPLE plots same figure \n\n#fig.append_trace(go.Scatter(x = Raw.PPG_Datetime[Raw.study_no == '003-2009'], y =  Raw.PLETH[Raw.study_no == '003-2009'], name='Pleth'), row=2, col=1)\n#for index, row in SQI_C[(SQI_C.study_no == '003-2009') & (SQI_C.keep == True)].iterrows():\n#    fig.add_vline(x = row.PPG_w_s, line_width=3, line_dash=\"dash\", line_color=\"red\", row=2, col=1)\n\n\n#fig.update_yaxes(title_text=\"Infrared\", row=1, col=1)\n#fig.update_yaxes(title_text=\"Pleth\", row=2, col=1)\n\n# fig.update_xaxes(rangeslider_visible=True, row=1, col=1)\n# fig.update_xaxes(title_text=\"Date\", row=1, col=1)\n# fig.update_xaxes(rangeslider_visible=True, row=2, col=1)\n# fig.update_xaxes(title_text=\"Date\", row=2, col=1)\n\n#fig.update_layout(height=1000, width=1000, title_text=\" IR_ADC and PLETH Plots for Patient 003-2009\")"
      ]
    }
  ],
  "metadata": {
    "kernelspec": {
      "display_name": "Python 3",
      "language": "python",
      "name": "python3"
    },
    "language_info": {
      "codemirror_mode": {
        "name": "ipython",
        "version": 3
      },
      "file_extension": ".py",
      "mimetype": "text/x-python",
      "name": "python",
      "nbconvert_exporter": "python",
      "pygments_lexer": "ipython3",
      "version": "3.9.1"
    }
  },
  "nbformat": 4,
  "nbformat_minor": 0
}