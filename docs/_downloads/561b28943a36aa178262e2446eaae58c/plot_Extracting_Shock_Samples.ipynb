{
  "cells": [
    {
      "cell_type": "code",
      "execution_count": null,
      "metadata": {
        "collapsed": false
      },
      "outputs": [],
      "source": [
        "%matplotlib inline"
      ]
    },
    {
      "cell_type": "markdown",
      "metadata": {},
      "source": [
        "\n# Extracting Shock Data for Feature Extraction (UNFINISHED)\n\nFetching shock instances (including symptoms that indicate severe dengue) and structuring the data\n"
      ]
    },
    {
      "cell_type": "markdown",
      "metadata": {},
      "source": [
        "# Importing Libraries\n\n"
      ]
    },
    {
      "cell_type": "code",
      "execution_count": null,
      "metadata": {
        "collapsed": false
      },
      "outputs": [],
      "source": [
        "# Generic\nimport os\nimport numpy as np\nimport pandas as pd\nimport matplotlib.pyplot as plt\nfrom datetime import datetime\nimport glob\nimport plotly as pl\n\nTerminal = True\n\nSQI_clinical_file = r'..\\..\\..\\..\\OUCRU\\Outputs\\Complete_SQIs_with_Clinical.csv'\nRaw_signals = r'..\\..\\..\\..\\OUCRU\\Outputs\\Raw_signals.csv'\n\n\n#Loading SQI Matched with clinitcal to the Dataframe\nSQI_C = pd.read_csv(SQI_clinical_file)\n#Raw = pd.read_csv(Raw_signals)\n\nif Terminal:\n    print(\"\\n SQI with Clinical Match:\")\n    print(SQI_C)\n    print(\"\\n Raw Signals\")\n    #print(Raw)"
      ]
    },
    {
      "cell_type": "code",
      "execution_count": null,
      "metadata": {
        "collapsed": false
      },
      "outputs": [],
      "source": [
        "event = ['event_shock', 'reshock24','shock_admission',\\\n     'ascites', 'respiratory_distress', 'ventilation_cannula', \\\n     'ventilation_mechanical', 'ventilation_ncpap', 'bleeding_severe', \\\n     'cns_abnormal', 'liver_mild', 'pleural_effusion', 'skidney']\n\nevent_shock = 'diagnosis_admission'\n\nSQI_C['keep'] = False\nfor i in range(len(event)):\n    event_s = event[i]\n    SQI_C_shock = SQI_C[SQI_C[event_s] == True]\n    print(\"\\n Total \", event[i], \" events:\")\n    print(SQI_C_shock)\n    SQI_C['keep'][SQI_C_shock.index] = True\n\nSQI_C.to_csv(r'..\\..\\..\\..\\OUCRU\\Outputs\\Complete_SQIs_with_Clinical_keep.csv')"
      ]
    }
  ],
  "metadata": {
    "kernelspec": {
      "display_name": "Python 3",
      "language": "python",
      "name": "python3"
    },
    "language_info": {
      "codemirror_mode": {
        "name": "ipython",
        "version": 3
      },
      "file_extension": ".py",
      "mimetype": "text/x-python",
      "name": "python",
      "nbconvert_exporter": "python",
      "pygments_lexer": "ipython3",
      "version": "3.9.1"
    }
  },
  "nbformat": 4,
  "nbformat_minor": 0
}