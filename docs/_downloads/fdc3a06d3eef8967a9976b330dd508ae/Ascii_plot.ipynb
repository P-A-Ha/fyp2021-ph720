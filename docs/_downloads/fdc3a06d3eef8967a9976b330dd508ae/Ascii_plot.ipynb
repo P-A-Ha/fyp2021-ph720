{
  "cells": [
    {
      "cell_type": "code",
      "execution_count": null,
      "metadata": {
        "collapsed": false
      },
      "outputs": [],
      "source": [
        "%matplotlib inline"
      ]
    },
    {
      "cell_type": "markdown",
      "metadata": {},
      "source": [
        "\n# Plotting data from an ASCII file (script)\n\nExample plot of 'Pleth' and 'ECG1' from an ascii file. \n"
      ]
    },
    {
      "cell_type": "code",
      "execution_count": null,
      "metadata": {
        "collapsed": false
      },
      "outputs": [],
      "source": [
        "import numpy as np\nimport pandas as pd\nimport matplotlib.pyplot as plt\n\n#Remember to change path\ndf = pd.read_table(r\"D:\\FILES\\Desktop\\Dissertation ICL\\OUCRU\\01NVa_Dengue\\Adults\\01NVa-003-2001\\Monitor\\01NVa-003-2001waves.asc\",header=1)\n\n#Visualising Data\ndf\n\n#Plotting Data\nax = plt.gca()\n\ndf[:1000000].plot(kind='line',x='Time',y='ECG1',ax=ax)\ndf[:1000000].plot(kind='line',x='Time',y='Pleth', color='red', ax=ax)\n\nplt.show()"
      ]
    }
  ],
  "metadata": {
    "kernelspec": {
      "display_name": "Python 3",
      "language": "python",
      "name": "python3"
    },
    "language_info": {
      "codemirror_mode": {
        "name": "ipython",
        "version": 3
      },
      "file_extension": ".py",
      "mimetype": "text/x-python",
      "name": "python",
      "nbconvert_exporter": "python",
      "pygments_lexer": "ipython3",
      "version": "3.9.1"
    }
  },
  "nbformat": 4,
  "nbformat_minor": 0
}