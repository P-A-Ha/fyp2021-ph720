{
  "cells": [
    {
      "cell_type": "code",
      "execution_count": null,
      "metadata": {
        "collapsed": false
      },
      "outputs": [],
      "source": [
        "%matplotlib inline"
      ]
    },
    {
      "cell_type": "markdown",
      "metadata": {},
      "source": [
        "\n# Running Tests, Ignore This File\n"
      ]
    },
    {
      "cell_type": "code",
      "execution_count": null,
      "metadata": {
        "collapsed": false
      },
      "outputs": [],
      "source": [
        "from typing import Counter\nimport pandas as pd\nimport os\nfrom datetime import datetime\n\n\nfilepath = r\"D:\\FILES\\Desktop\\Dissertation ICL\\OUCRU\\01NVa_Dengue\\Adults\\01NVa-003-2009\\PPG\"\nfiles = os.listdir(filepath)\nfirst = os.path.join(filepath, files[0])\n#second = os.path.join(filepath, files[1])\n\nf = pd.read_csv(first)\n#s = pd.read_csv(second)\n\nprint(f)\n#print(s['COUNTER'])\n\n#print(s['COUNTER'].iloc[0] - f['COUNTER'].iloc[-1])\n#print(files[0])\n#test = files[0][:-13]\n#test = test.replace('T','')\n#print(test)\n#datetime_conversion_check = datetime.strptime(test, '%Y%m%d%H%M%S')\n#print(datetime_conversion_check)"
      ]
    }
  ],
  "metadata": {
    "kernelspec": {
      "display_name": "Python 3",
      "language": "python",
      "name": "python3"
    },
    "language_info": {
      "codemirror_mode": {
        "name": "ipython",
        "version": 3
      },
      "file_extension": ".py",
      "mimetype": "text/x-python",
      "name": "python",
      "nbconvert_exporter": "python",
      "pygments_lexer": "ipython3",
      "version": "3.9.1"
    }
  },
  "nbformat": 4,
  "nbformat_minor": 0
}