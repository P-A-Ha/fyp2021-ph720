{
  "cells": [
    {
      "cell_type": "code",
      "execution_count": null,
      "metadata": {
        "collapsed": false
      },
      "outputs": [],
      "source": [
        "%matplotlib inline"
      ]
    },
    {
      "cell_type": "markdown",
      "metadata": {},
      "source": [
        "\n# PPG Pre-processing and SQI Calculations\n\nTrimming, Filtering, Segmentation and SQI Calculations\n"
      ]
    },
    {
      "cell_type": "code",
      "execution_count": null,
      "metadata": {
        "collapsed": false
      },
      "outputs": [],
      "source": [
        "# Code Adapted from:\n# https://github.com/meta00/vital_sqi/blob/main/examples/SQI_pipeline_PPG.ipynb\n# AND\n# https://meta00.github.io/vital_sqi/_examples/others/plot_read_signal.html#sphx-glr-examples-others-plot-read-signal-py"
      ]
    },
    {
      "cell_type": "markdown",
      "metadata": {},
      "source": [
        "#Libraries\n\n"
      ]
    },
    {
      "cell_type": "code",
      "execution_count": null,
      "metadata": {
        "collapsed": false
      },
      "outputs": [],
      "source": [
        "# Generic\nimport os\nimport numpy as np\nimport pandas as pd\nimport matplotlib.pyplot as plt\n\n# Scipy\nfrom scipy.stats import skew\nfrom scipy.stats import kurtosis\n\n # vitalSQI\nfrom vital_sqi.data.signal_io import PPG_reader\nimport vital_sqi.highlevel_functions.highlevel as sqi_hl\nimport vital_sqi.data.segment_split as sqi_sg\nfrom vital_sqi.common.rpeak_detection import PeakDetector\n\n# ----------------------------\n# Load data\n# ----------------------------\n\n# Filepath\n \nfilepath = r'..\\..\\..\\..\\OUCRU\\01NVa_Dengue\\Adults\\01NVa-003-2001\\PPG'\nfilename = r'01NVa-003-2001 Smartcare.csv'\n\n\n#defining constants\ntrim_amount = 120\nhp_filt_params = (1, 1) #(Hz, order)\nlp_filt_params = (20, 4) #(Hz, order)\nfilter_type =  'butter'\nsegment_length = 30\nsampling_rate = 100\n\n#readind PPG data\ndata = PPG_reader(os.path.join(filepath, filename), \n    signal_idx=[\"PLETH\", \"IR_ADC\"],\n    timestamp_idx=[\"TIMESTAMP_MS\"],\n    info_idx=[\"SPO2_PCT\",\"PULSE_BPM\",\"PERFUSION_INDEX\"], sampling_rate=sampling_rate)\n\n\nprint(data)\nprint(data.signals)\nprint(data.sampling_rate)\nprint(data.start_datetime)\nprint(data.wave_type)\nprint(data.signals.shape)\n\n\nplot_range = np.arange(0,1000,1)\nfig, ax = plt.subplots()\nax.plot(plot_range, data.signals[0][0:1000])\n\n\n# ----------------------------\n# Filtering, Trimming and Segmentation\n# ----------------------------\n\n#Saving a copy of the original Sigal\n\noriginal_signal = np.copy(data.signals.T[trim_amount*sampling_rate:-trim_amount*sampling_rate].T)\noriginal = pd.DataFrame(original_signal)\nprint(\"Raw Signals Shape: \", original.shape)\n\n\n#Signal  Filtering\n\ndata.update_signal(sqi_hl.signal_preprocess(signal_channel=data.signals, hp_cutoff_order=hp_filt_params, lp_cutoff_order=lp_filt_params, trim_amount=trim_amount, filter_type=filter_type, sampling_rate=sampling_rate))\nsignals = pd.DataFrame(data.signals)\nprint(\"Filtered Signals Shape: \", signals.shape)\n\nfig, ax = plt.subplots()\nax.plot(plot_range, data.signals[0][0:1000])\n\n\n# Signal Segmenation\n\ndata.update_segment_indices(sqi_sg.generate_segment_idx(segment_length=segment_length, sampling_rate=sampling_rate, signal_array=data.signals))\nprint(\"Data Segments Shape: \", data.segments.shape)\nsegments= pd.DataFrame(data.segments)\n\n# ----------------------------\n# Peak Detection\n# ----------------------------\n\n# #PEAK DETECTION\npeak_list, trough_list = PeakDetector().ppg_detector(signals.iloc[0,segments.iloc[0,0]:segments.iloc[0,1]], 7)\n\nplot_range = np.arange(0,3000,1)\nfig, ax = plt.subplots()\nax.plot(plot_range, signals.iloc[0, segments.iloc[0,0]:segments.iloc[0,1]])\nif len(peak_list)!=0:\n    ax.scatter(peak_list,signals.iloc[0,peak_list],color=\"r\",marker=\"v\")\nif len(trough_list)!=0:\n    ax.scatter(trough_list,signals.iloc[0,trough_list],color=\"b\",marker=\"v\")\n\n\n#Single period plot\nfig, ax = plt.subplots()\nax.plot(signals.iloc[0,trough_list[0]:trough_list[1]])\n\n\nprint(data.signals[0])\nprint(data.signals.shape)\nprint(segments.shape)\nprint(data.segments.shape)\nprint(original_signal.shape)\nprint(peak_list.shape)\nprint(trough_list.shape)\n\n\n# ----------------------------\n# SQI Calculation\n# ----------------------------\n\n\n#THE FUNCTION BELOW OUTPUTS AN ERROR, NEEDS TO BE EDITED SO THAT if signals are none, they are replaced with NaN\n\n#computed_sqi = sqi_hl.compute_all_SQI(signal=data.signals[0], segments=data.segments[0], raw_signal=original_signal[0], primary_peakdet=7, secondary_peakdet=6, template_type=0)\n\n'''\nERROR THAT COMES UP:\n\nraise Exception(\"Not enough peaks in the signal to generate per beat SQI\")\nException: Not enough peaks in the signal to generate per beat \n\nTHIS COMES UP FOR PLETH (index 0) BUT NOT FOR IR_ADC (index 1)\n\n'''\n\n\n'''\ncomputed_sqi = pd.DataFrame(computed_sqi)\n\n\nprint(computed_sqi[2].keys())\nprint(data.segments.shape)\nprint(peak_list.shape)\nprint(trough_list.shape)\nprint(computed_sqi[1873]['snr'])\n'''\n\n# ----------------------------\n# Segment Rejection\n# ----------------------------\n\n#AFTER COMPUTING SQIs REJECT USING CRITERIA IS THE NEXT STEP.\n\n\n\n\n\n\n\n\n\n\n\n\nplt.show()"
      ]
    }
  ],
  "metadata": {
    "kernelspec": {
      "display_name": "Python 3",
      "language": "python",
      "name": "python3"
    },
    "language_info": {
      "codemirror_mode": {
        "name": "ipython",
        "version": 3
      },
      "file_extension": ".py",
      "mimetype": "text/x-python",
      "name": "python",
      "nbconvert_exporter": "python",
      "pygments_lexer": "ipython3",
      "version": "3.9.1"
    }
  },
  "nbformat": 4,
  "nbformat_minor": 0
}