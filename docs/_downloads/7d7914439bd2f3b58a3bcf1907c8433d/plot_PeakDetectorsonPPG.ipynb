{
  "cells": [
    {
      "cell_type": "code",
      "execution_count": null,
      "metadata": {
        "collapsed": false
      },
      "outputs": [],
      "source": [
        "%matplotlib inline"
      ]
    },
    {
      "cell_type": "markdown",
      "metadata": {},
      "source": [
        "\n# PPG Peak Detector Comparisons\n\nComparing Different Peak Detectors\n"
      ]
    },
    {
      "cell_type": "code",
      "execution_count": null,
      "metadata": {
        "collapsed": false
      },
      "outputs": [],
      "source": [
        "# Code Adapted from:\n# https://github.com/meta00/vital_sqi/blob/main/examples/SQI_pipeline_PPG.ipynb\n# AND\n# https://meta00.github.io/vital_sqi/_examples/others/plot_read_signal.html#sphx-glr-examples-others-plot-read-signal-py"
      ]
    },
    {
      "cell_type": "markdown",
      "metadata": {},
      "source": [
        "Libraries\n\n"
      ]
    },
    {
      "cell_type": "code",
      "execution_count": null,
      "metadata": {
        "collapsed": false
      },
      "outputs": [],
      "source": [
        "# Generic\nimport os\nimport numpy as np\nimport pandas as pd\nimport matplotlib.pyplot as plt\n\n# Scipy\nfrom scipy.stats import skew\nfrom scipy.stats import kurtosis\n\n # vitalSQI\nfrom vital_sqi.data.signal_io import PPG_reader\nimport vital_sqi.highlevel_functions.highlevel as sqi_hl\nimport vital_sqi.data.segment_split as sqi_sg\nfrom vital_sqi.common.rpeak_detection import PeakDetector\nfrom vital_sqi.preprocess.band_filter import BandpassFilter\nimport vital_sqi.sqi as sq"
      ]
    },
    {
      "cell_type": "markdown",
      "metadata": {},
      "source": [
        "Loading data\n\n"
      ]
    },
    {
      "cell_type": "code",
      "execution_count": null,
      "metadata": {
        "collapsed": false
      },
      "outputs": [],
      "source": [
        "# Filepath\n \nfilepath = r'..\\..\\..\\..\\OUCRU\\01NVa_Dengue\\Adults\\01NVa-003-2001\\PPG'\nfilename = r'01NVa-003-2001 Smartcare.csv'\n\n\n#defining constants\ntrim_amount = 300\nhp_filt_params = (1, 1) #(Hz, order)\nlp_filt_params = (20, 4) #(Hz, order)\nfilter_type =  'butter'\nsegment_length = 30\nsampling_rate = 100\n\n#readind PPG data\ndata = PPG_reader(os.path.join(filepath, filename), \n    signal_idx=[\"PLETH\", \"IR_ADC\"],\n    timestamp_idx=[\"TIMESTAMP_MS\"],\n    info_idx=[\"SPO2_PCT\",\"PULSE_BPM\",\"PERFUSION_INDEX\"], sampling_rate=sampling_rate)\n\nPeakDetectorNames = [\"ADAPTIVE_THRESHOLD\",\n    \"COUNT_ORIG_METHOD\",\n    \"CLUSTERER_METHOD\",\n    \"SLOPE_SUM_METHOD\",\n    \"MOVING_AVERAGE_METHOD\",\n    \"DEFAULT_SCIPY\",\n    \"BILLAUER_METHOD\"]"
      ]
    },
    {
      "cell_type": "code",
      "execution_count": null,
      "metadata": {
        "collapsed": false
      },
      "outputs": [],
      "source": [
        "pd.Timedelta.__str__ = lambda x: x._repr_base('all')\n\nsignals = pd.DataFrame(data.signals.T)\n\n# Include column with index\nsignals = signals.reset_index()\n\n\nsignals['timedelta'] = \\\n    pd.to_timedelta(signals.index / sampling_rate, unit='s')\n\nsignals = signals.set_index('timedelta')\n\n# Show\nprint(\"Raw Signals: \")\nprint(signals)\n\n# Plot\nfig, axes = plt.subplots(nrows=2, ncols=1)\naxes = axes.flatten()\n\nsignals[0].plot(ax=axes[0])\nsignals[1].plot(ax=axes[1])\n\n#==================\n#Bandpass Filtering\n#==================\n\n\ndef bpf(signal):\n    hp_filt_params = (1, 1) #(Hz, order)\n    lp_filt_params = (20, 4) #(Hz, order)\n    sampling_rate = 100\n    filter = BandpassFilter(band_type='butter', fs=sampling_rate)\n    filtered_signal = filter.signal_highpass_filter(signal, cutoff=hp_filt_params[0], order=hp_filt_params[1])\n    filtered_signal = filter.signal_lowpass_filter(filtered_signal, cutoff=lp_filt_params[0], order=lp_filt_params[1])\n    return filtered_signal\n\nsignals['Filtered_Pleth'] = bpf(signals[0])\nsignals['Filtered_IR_ADC'] = bpf(signals[1])"
      ]
    },
    {
      "cell_type": "markdown",
      "metadata": {},
      "source": [
        "Peak Detector Comparison on PLETH\n\n"
      ]
    },
    {
      "cell_type": "code",
      "execution_count": null,
      "metadata": {
        "collapsed": false
      },
      "outputs": [],
      "source": [
        "print('Peak Detector Comparison on Pleth')\npleth_segment= signals['Filtered_Pleth'][2000:5000]\nfor i in range(1,8,1):\n    peaks, troughs = PeakDetector().ppg_detector(pleth_segment, i)\n    \n    sample_range = np.arange(0,3000,1)\n    fig, axes = plt.subplots(nrows=2, ncols=1)\n    axes = axes.flatten() \n    ax = axes[0]\n    ax.plot(sample_range, pleth_segment)\n    ax.scatter(peaks,pleth_segment[peaks], color=\"g\", marker=\"v\")\n    ax.scatter(troughs,pleth_segment[troughs], color=\"r\", marker=\"v\")\n    ax.title.set_text(\"Peak Detector: %s \" %PeakDetectorNames[i-1])\n    \n    ax = axes[1]\n    ax.plot(pleth_segment[peaks[0]:peaks[1]]) #plotting only one period\n\nplt.show"
      ]
    },
    {
      "cell_type": "markdown",
      "metadata": {},
      "source": [
        "Peak Detector Comparison on IR_ADC\n\n"
      ]
    },
    {
      "cell_type": "code",
      "execution_count": null,
      "metadata": {
        "collapsed": false
      },
      "outputs": [],
      "source": [
        "print(\"Peak Detector Comparison on IR_ADC\")\n\nIRADC_segment= signals['Filtered_IR_ADC'][2000:5000]\nfor i in range(1,8,1):\n    peaks, troughs = PeakDetector().ppg_detector(IRADC_segment, i)\n\n    sample_range = np.arange(0,3000,1)\n    fig, axes = plt.subplots(nrows=2, ncols=1)\n    axes = axes.flatten() \n    ax = axes[0]\n    ax.plot(sample_range, IRADC_segment)\n    ax.scatter(peaks,IRADC_segment[peaks], color=\"g\", marker=\"v\")\n    ax.scatter(troughs,IRADC_segment[troughs], color=\"r\", marker=\"v\")\n    ax.title.set_text(\"Peak Detector: %s \" %PeakDetectorNames[i-1])\n    \n    ax = axes[1]\n    ax.plot(IRADC_segment[peaks[0]:peaks[1]]) #plotting only one period\n\nplt.show"
      ]
    },
    {
      "cell_type": "code",
      "execution_count": null,
      "metadata": {
        "collapsed": false
      },
      "outputs": [],
      "source": [
        "'''\n\nDetector 6 and 7 seem to be performing better overall\n\nNote that the diacrotic notch can be higher than the diastolic peak\nand therefore, cannot be effectively detected by the peak detector.\n'''"
      ]
    }
  ],
  "metadata": {
    "kernelspec": {
      "display_name": "Python 3",
      "language": "python",
      "name": "python3"
    },
    "language_info": {
      "codemirror_mode": {
        "name": "ipython",
        "version": 3
      },
      "file_extension": ".py",
      "mimetype": "text/x-python",
      "name": "python",
      "nbconvert_exporter": "python",
      "pygments_lexer": "ipython3",
      "version": "3.9.1"
    }
  },
  "nbformat": 4,
  "nbformat_minor": 0
}